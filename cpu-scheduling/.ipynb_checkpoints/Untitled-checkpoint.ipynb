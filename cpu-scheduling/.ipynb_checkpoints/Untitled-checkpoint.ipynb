{
 "cells": [
  {
   "cell_type": "code",
   "execution_count": 10,
   "metadata": {},
   "outputs": [
    {
     "name": "stdout",
     "output_type": "stream",
     "text": [
      "Requirement already satisfied: jupyter-datatables in /Users/kristinngodfrey/miniconda3/lib/python3.7/site-packages (0.3.9)\n",
      "Requirement already satisfied: ipython in /Users/kristinngodfrey/miniconda3/lib/python3.7/site-packages (from jupyter-datatables) (7.12.0)\n",
      "Requirement already satisfied: scipy in /Users/kristinngodfrey/miniconda3/lib/python3.7/site-packages (from jupyter-datatables) (1.4.1)\n",
      "Requirement already satisfied: jupyter-require>=0.3.0 in /Users/kristinngodfrey/miniconda3/lib/python3.7/site-packages (from jupyter-datatables) (0.6.1)\n",
      "Requirement already satisfied: pandas>=0.23.0 in /Users/kristinngodfrey/miniconda3/lib/python3.7/site-packages (from jupyter-datatables) (1.0.1)\n",
      "Requirement already satisfied: ipykernel in /Users/kristinngodfrey/miniconda3/lib/python3.7/site-packages (from jupyter-datatables) (5.1.4)\n",
      "Requirement already satisfied: backcall in /Users/kristinngodfrey/miniconda3/lib/python3.7/site-packages (from ipython->jupyter-datatables) (0.1.0)\n",
      "Requirement already satisfied: pickleshare in /Users/kristinngodfrey/miniconda3/lib/python3.7/site-packages (from ipython->jupyter-datatables) (0.7.5)\n",
      "Requirement already satisfied: decorator in /Users/kristinngodfrey/miniconda3/lib/python3.7/site-packages (from ipython->jupyter-datatables) (4.4.1)\n",
      "Requirement already satisfied: appnope; sys_platform == \"darwin\" in /Users/kristinngodfrey/miniconda3/lib/python3.7/site-packages (from ipython->jupyter-datatables) (0.1.0)\n",
      "Requirement already satisfied: jedi>=0.10 in /Users/kristinngodfrey/miniconda3/lib/python3.7/site-packages (from ipython->jupyter-datatables) (0.16.0)\n",
      "Requirement already satisfied: pygments in /Users/kristinngodfrey/miniconda3/lib/python3.7/site-packages (from ipython->jupyter-datatables) (2.5.2)\n",
      "Requirement already satisfied: prompt-toolkit!=3.0.0,!=3.0.1,<3.1.0,>=2.0.0 in /Users/kristinngodfrey/miniconda3/lib/python3.7/site-packages (from ipython->jupyter-datatables) (3.0.3)\n",
      "Requirement already satisfied: pexpect; sys_platform != \"win32\" in /Users/kristinngodfrey/miniconda3/lib/python3.7/site-packages (from ipython->jupyter-datatables) (4.8.0)\n",
      "Requirement already satisfied: traitlets>=4.2 in /Users/kristinngodfrey/miniconda3/lib/python3.7/site-packages (from ipython->jupyter-datatables) (4.3.3)\n",
      "Requirement already satisfied: setuptools>=18.5 in /Users/kristinngodfrey/miniconda3/lib/python3.7/site-packages (from ipython->jupyter-datatables) (41.4.0)\n",
      "Requirement already satisfied: numpy>=1.13.3 in /Users/kristinngodfrey/miniconda3/lib/python3.7/site-packages (from scipy->jupyter-datatables) (1.18.1)\n",
      "Requirement already satisfied: daiquiri in /Users/kristinngodfrey/miniconda3/lib/python3.7/site-packages (from jupyter-require>=0.3.0->jupyter-datatables) (2.0.0)\n",
      "Requirement already satisfied: jupyter-contrib-nbextensions in /Users/kristinngodfrey/miniconda3/lib/python3.7/site-packages (from jupyter-require>=0.3.0->jupyter-datatables) (0.5.1)\n",
      "Requirement already satisfied: jupyter-nbutils in /Users/kristinngodfrey/miniconda3/lib/python3.7/site-packages (from jupyter-require>=0.3.0->jupyter-datatables) (0.1.3)\n",
      "Requirement already satisfied: csscompressor in /Users/kristinngodfrey/miniconda3/lib/python3.7/site-packages (from jupyter-require>=0.3.0->jupyter-datatables) (0.9.5)\n",
      "Requirement already satisfied: pytz>=2017.2 in /Users/kristinngodfrey/miniconda3/lib/python3.7/site-packages (from pandas>=0.23.0->jupyter-datatables) (2019.3)\n",
      "Requirement already satisfied: python-dateutil>=2.6.1 in /Users/kristinngodfrey/miniconda3/lib/python3.7/site-packages (from pandas>=0.23.0->jupyter-datatables) (2.8.1)\n",
      "Requirement already satisfied: tornado>=4.2 in /Users/kristinngodfrey/miniconda3/lib/python3.7/site-packages (from ipykernel->jupyter-datatables) (6.0.3)\n",
      "Requirement already satisfied: jupyter-client in /Users/kristinngodfrey/miniconda3/lib/python3.7/site-packages (from ipykernel->jupyter-datatables) (5.3.4)\n",
      "Requirement already satisfied: parso>=0.5.2 in /Users/kristinngodfrey/miniconda3/lib/python3.7/site-packages (from jedi>=0.10->ipython->jupyter-datatables) (0.6.1)\n",
      "Requirement already satisfied: wcwidth in /Users/kristinngodfrey/miniconda3/lib/python3.7/site-packages (from prompt-toolkit!=3.0.0,!=3.0.1,<3.1.0,>=2.0.0->ipython->jupyter-datatables) (0.1.8)\n",
      "Requirement already satisfied: ptyprocess>=0.5 in /Users/kristinngodfrey/miniconda3/lib/python3.7/site-packages (from pexpect; sys_platform != \"win32\"->ipython->jupyter-datatables) (0.6.0)\n",
      "Requirement already satisfied: ipython-genutils in /Users/kristinngodfrey/miniconda3/lib/python3.7/site-packages (from traitlets>=4.2->ipython->jupyter-datatables) (0.2.0)\n",
      "Requirement already satisfied: six in /Users/kristinngodfrey/miniconda3/lib/python3.7/site-packages (from traitlets>=4.2->ipython->jupyter-datatables) (1.12.0)\n",
      "Requirement already satisfied: python-json-logger in /Users/kristinngodfrey/miniconda3/lib/python3.7/site-packages (from daiquiri->jupyter-require>=0.3.0->jupyter-datatables) (0.1.11)\n",
      "Requirement already satisfied: jupyter-contrib-core>=0.3.3 in /Users/kristinngodfrey/miniconda3/lib/python3.7/site-packages (from jupyter-contrib-nbextensions->jupyter-require>=0.3.0->jupyter-datatables) (0.3.3)\n",
      "Requirement already satisfied: jupyter-core in /Users/kristinngodfrey/miniconda3/lib/python3.7/site-packages (from jupyter-contrib-nbextensions->jupyter-require>=0.3.0->jupyter-datatables) (4.6.3)\n",
      "Requirement already satisfied: pyyaml in /Users/kristinngodfrey/miniconda3/lib/python3.7/site-packages (from jupyter-contrib-nbextensions->jupyter-require>=0.3.0->jupyter-datatables) (5.3)\n",
      "Requirement already satisfied: lxml in /Users/kristinngodfrey/miniconda3/lib/python3.7/site-packages (from jupyter-contrib-nbextensions->jupyter-require>=0.3.0->jupyter-datatables) (4.5.0)\n",
      "Requirement already satisfied: jupyter-nbextensions-configurator>=0.4.0 in /Users/kristinngodfrey/miniconda3/lib/python3.7/site-packages (from jupyter-contrib-nbextensions->jupyter-require>=0.3.0->jupyter-datatables) (0.4.1)\n",
      "Requirement already satisfied: notebook>=4.0 in /Users/kristinngodfrey/miniconda3/lib/python3.7/site-packages (from jupyter-contrib-nbextensions->jupyter-require>=0.3.0->jupyter-datatables) (6.0.3)\n",
      "Requirement already satisfied: nbconvert>=4.2 in /Users/kristinngodfrey/miniconda3/lib/python3.7/site-packages (from jupyter-contrib-nbextensions->jupyter-require>=0.3.0->jupyter-datatables) (5.6.1)\n",
      "Requirement already satisfied: jupyter-latex-envs>=1.3.8 in /Users/kristinngodfrey/miniconda3/lib/python3.7/site-packages (from jupyter-contrib-nbextensions->jupyter-require>=0.3.0->jupyter-datatables) (1.4.6)\n",
      "Requirement already satisfied: jupyter-highlight-selected-word>=0.1.1 in /Users/kristinngodfrey/miniconda3/lib/python3.7/site-packages (from jupyter-contrib-nbextensions->jupyter-require>=0.3.0->jupyter-datatables) (0.2.0)\n",
      "Requirement already satisfied: pyzmq>=13 in /Users/kristinngodfrey/miniconda3/lib/python3.7/site-packages (from jupyter-client->ipykernel->jupyter-datatables) (18.1.1)\n",
      "Requirement already satisfied: jinja2 in /Users/kristinngodfrey/miniconda3/lib/python3.7/site-packages (from notebook>=4.0->jupyter-contrib-nbextensions->jupyter-require>=0.3.0->jupyter-datatables) (2.11.1)\n",
      "Requirement already satisfied: Send2Trash in /Users/kristinngodfrey/miniconda3/lib/python3.7/site-packages (from notebook>=4.0->jupyter-contrib-nbextensions->jupyter-require>=0.3.0->jupyter-datatables) (1.5.0)\n",
      "Requirement already satisfied: terminado>=0.8.1 in /Users/kristinngodfrey/miniconda3/lib/python3.7/site-packages (from notebook>=4.0->jupyter-contrib-nbextensions->jupyter-require>=0.3.0->jupyter-datatables) (0.8.3)\n",
      "Requirement already satisfied: prometheus-client in /Users/kristinngodfrey/miniconda3/lib/python3.7/site-packages (from notebook>=4.0->jupyter-contrib-nbextensions->jupyter-require>=0.3.0->jupyter-datatables) (0.7.1)\n",
      "Requirement already satisfied: nbformat in /Users/kristinngodfrey/miniconda3/lib/python3.7/site-packages (from notebook>=4.0->jupyter-contrib-nbextensions->jupyter-require>=0.3.0->jupyter-datatables) (5.0.4)\n",
      "Requirement already satisfied: testpath in /Users/kristinngodfrey/miniconda3/lib/python3.7/site-packages (from nbconvert>=4.2->jupyter-contrib-nbextensions->jupyter-require>=0.3.0->jupyter-datatables) (0.4.4)\n",
      "Requirement already satisfied: mistune<2,>=0.8.1 in /Users/kristinngodfrey/miniconda3/lib/python3.7/site-packages (from nbconvert>=4.2->jupyter-contrib-nbextensions->jupyter-require>=0.3.0->jupyter-datatables) (0.8.4)\n",
      "Requirement already satisfied: defusedxml in /Users/kristinngodfrey/miniconda3/lib/python3.7/site-packages (from nbconvert>=4.2->jupyter-contrib-nbextensions->jupyter-require>=0.3.0->jupyter-datatables) (0.6.0)\n",
      "Requirement already satisfied: entrypoints>=0.2.2 in /Users/kristinngodfrey/miniconda3/lib/python3.7/site-packages (from nbconvert>=4.2->jupyter-contrib-nbextensions->jupyter-require>=0.3.0->jupyter-datatables) (0.3)\n",
      "Requirement already satisfied: pandocfilters>=1.4.1 in /Users/kristinngodfrey/miniconda3/lib/python3.7/site-packages (from nbconvert>=4.2->jupyter-contrib-nbextensions->jupyter-require>=0.3.0->jupyter-datatables) (1.4.2)\n",
      "Requirement already satisfied: bleach in /Users/kristinngodfrey/miniconda3/lib/python3.7/site-packages (from nbconvert>=4.2->jupyter-contrib-nbextensions->jupyter-require>=0.3.0->jupyter-datatables) (3.1.1)\n",
      "Requirement already satisfied: MarkupSafe>=0.23 in /Users/kristinngodfrey/miniconda3/lib/python3.7/site-packages (from jinja2->notebook>=4.0->jupyter-contrib-nbextensions->jupyter-require>=0.3.0->jupyter-datatables) (1.1.1)\n",
      "Requirement already satisfied: jsonschema!=2.5.0,>=2.4 in /Users/kristinngodfrey/miniconda3/lib/python3.7/site-packages (from nbformat->notebook>=4.0->jupyter-contrib-nbextensions->jupyter-require>=0.3.0->jupyter-datatables) (3.2.0)\n",
      "Requirement already satisfied: webencodings in /Users/kristinngodfrey/miniconda3/lib/python3.7/site-packages (from bleach->nbconvert>=4.2->jupyter-contrib-nbextensions->jupyter-require>=0.3.0->jupyter-datatables) (0.5.1)\n",
      "Requirement already satisfied: pyrsistent>=0.14.0 in /Users/kristinngodfrey/miniconda3/lib/python3.7/site-packages (from jsonschema!=2.5.0,>=2.4->nbformat->notebook>=4.0->jupyter-contrib-nbextensions->jupyter-require>=0.3.0->jupyter-datatables) (0.15.7)\n"
     ]
    },
    {
     "name": "stdout",
     "output_type": "stream",
     "text": [
      "Requirement already satisfied: importlib-metadata; python_version < \"3.8\" in /Users/kristinngodfrey/miniconda3/lib/python3.7/site-packages (from jsonschema!=2.5.0,>=2.4->nbformat->notebook>=4.0->jupyter-contrib-nbextensions->jupyter-require>=0.3.0->jupyter-datatables) (1.5.0)\r\n",
      "Requirement already satisfied: attrs>=17.4.0 in /Users/kristinngodfrey/miniconda3/lib/python3.7/site-packages (from jsonschema!=2.5.0,>=2.4->nbformat->notebook>=4.0->jupyter-contrib-nbextensions->jupyter-require>=0.3.0->jupyter-datatables) (19.3.0)\r\n",
      "Requirement already satisfied: zipp>=0.5 in /Users/kristinngodfrey/miniconda3/lib/python3.7/site-packages (from importlib-metadata; python_version < \"3.8\"->jsonschema!=2.5.0,>=2.4->nbformat->notebook>=4.0->jupyter-contrib-nbextensions->jupyter-require>=0.3.0->jupyter-datatables) (3.0.0)\r\n"
     ]
    }
   ],
   "source": [
    "! pip install jupyter-datatables"
   ]
  },
  {
   "cell_type": "code",
   "execution_count": 11,
   "metadata": {},
   "outputs": [
    {
     "ename": "ModuleNotFoundError",
     "evalue": "No module named 'jupyter_datatables'",
     "output_type": "error",
     "traceback": [
      "\u001b[0;31m---------------------------------------------------------------------------\u001b[0m",
      "\u001b[0;31mModuleNotFoundError\u001b[0m                       Traceback (most recent call last)",
      "\u001b[0;32m<ipython-input-11-206736984a05>\u001b[0m in \u001b[0;36m<module>\u001b[0;34m\u001b[0m\n\u001b[1;32m      1\u001b[0m \u001b[0;32mimport\u001b[0m \u001b[0mpandas\u001b[0m \u001b[0;32mas\u001b[0m \u001b[0mpd\u001b[0m\u001b[0;34m\u001b[0m\u001b[0;34m\u001b[0m\u001b[0m\n\u001b[1;32m      2\u001b[0m \u001b[0;32mimport\u001b[0m \u001b[0mnumpy\u001b[0m \u001b[0;32mas\u001b[0m \u001b[0mnp\u001b[0m\u001b[0;34m\u001b[0m\u001b[0;34m\u001b[0m\u001b[0m\n\u001b[0;32m----> 3\u001b[0;31m \u001b[0;32mfrom\u001b[0m \u001b[0mjupyter_datatables\u001b[0m \u001b[0;32mimport\u001b[0m \u001b[0minit_datatables_mode\u001b[0m\u001b[0;34m\u001b[0m\u001b[0;34m\u001b[0m\u001b[0m\n\u001b[0m\u001b[1;32m      4\u001b[0m \u001b[0;34m\u001b[0m\u001b[0m\n\u001b[1;32m      5\u001b[0m \u001b[0minit_datatables_mode\u001b[0m\u001b[0;34m(\u001b[0m\u001b[0;34m)\u001b[0m\u001b[0;34m\u001b[0m\u001b[0;34m\u001b[0m\u001b[0m\n",
      "\u001b[0;31mModuleNotFoundError\u001b[0m: No module named 'jupyter_datatables'"
     ]
    }
   ],
   "source": [
    "import pandas as pd\n",
    "import numpy as np\n",
    "\n",
    "from jupyter_datatables import init_datatables_mode\n",
    "\n",
    "init_datatables_mode()"
   ]
  },
  {
   "cell_type": "code",
   "execution_count": 7,
   "metadata": {},
   "outputs": [],
   "source": [
    "algs =  pd.DataFrame({    \n",
    "            'FCFS': [\"P1\",\"P1\",\"P1\",\"P1\",\"P2\",\"P2\",\"P2\",\"P2\",\"P2\",\"P2\",\"P2\",\"P2\",\"P2\",\"P2\",\"P2\",\"P3\",\"P3\",\"P3\",\"P3\",\"P3\",\"P3\",\"P3\",\"P3\",\"P4\",\"P4\",\"P4\",\"P4\",\"P4\",\"P5\",\"P5\",\"P5\",\"P5\"],\n",
    "            'SJF': [\"P1\",\"P1\",\"P1\",\"P1\",\"P3\",\"P3\",\"P3\",\"P3\",\"P3\",\"P3\",\"P3\",\"P3\",\"P2\",\"P2\",\"P2\",\"P2\",\"P2\",\"P2\",\"P2\",\"P2\",\"P2\",\"P2\",\"P2\",\"P5\",\"P5\",\"P5\",\"P5\",\"P4\",\"P4\",\"P4\",\"P4\",\"P4\"],\n",
    "            'SRTF': [\"P1\",\"P1\",\"P1\",\"P1\",\"P3\",\"P3\",\"P3\",\"P3\",\"P3\",\"P3\",\"P3\",\"P3\",\"P2\",\"P2\",\"P4\",\"P4\",\"P4\",\"P4\",\"P4\",\"P5\",\"P5\",\"P5\",\"P5\",\"P2\",\"P2\",\"P2\",\"P2\",\"P2\",\"P2\",\"P2\",\"P2\",\"P2\",],\n",
    "            'RR': [\"P1\",\"P1\",\"P1\",\"P1\",\"P2\",\"P2\",\"P2\",\"P2\",\"P3\",\"P3\",\"P3\",\"P3\",\"P2\",\"P2\",\"P2\",\"P2\",\"P3\",\"P3\",\"P3\",\"P3\",\"P4\",\"P4\",\"P4\",\"P4\",\"P2\",\"P2\",\"P2\",\"P5\",\"P5\",\"P5\",\"P5\",\"P4\"],\n",
    "            'RR-prio': [\"P1\",\"P1\",\"P1\",\"P1\",\"P3\",\"P3\",\"P3\",\"P3\",\"P3\",\"P3\",\"P3\",\"P3\",\"P2\",\"P2\",\"P4\",\"P4\",\"P4\",\"P4\",\"P5\",\"P5\",\"P5\",\"P5\",\"P4\",\"P2\",\"P2\",\"P2\",\"P2\",\"P2\",\"P2\",\"P2\",\"P2\",\"P2\",],\n",
    "            \n",
    "\n",
    "        })    "
   ]
  },
  {
   "cell_type": "code",
   "execution_count": 8,
   "metadata": {},
   "outputs": [
    {
     "ename": "NameError",
     "evalue": "name 'string' is not defined",
     "output_type": "error",
     "traceback": [
      "\u001b[0;31m---------------------------------------------------------------------------\u001b[0m",
      "\u001b[0;31mNameError\u001b[0m                                 Traceback (most recent call last)",
      "\u001b[0;32m<ipython-input-8-3d894ac9bbb6>\u001b[0m in \u001b[0;36m<module>\u001b[0;34m\u001b[0m\n\u001b[0;32m----> 1\u001b[0;31m \u001b[0mdf\u001b[0m \u001b[0;34m=\u001b[0m \u001b[0mpd\u001b[0m\u001b[0;34m.\u001b[0m\u001b[0mDataFrame\u001b[0m\u001b[0;34m(\u001b[0m\u001b[0mnp\u001b[0m\u001b[0;34m.\u001b[0m\u001b[0mabs\u001b[0m\u001b[0;34m(\u001b[0m\u001b[0mnp\u001b[0m\u001b[0;34m.\u001b[0m\u001b[0mrandom\u001b[0m\u001b[0;34m.\u001b[0m\u001b[0mrandn\u001b[0m\u001b[0;34m(\u001b[0m\u001b[0;36m50\u001b[0m\u001b[0;34m,\u001b[0m \u001b[0;36m5\u001b[0m\u001b[0;34m)\u001b[0m\u001b[0;34m)\u001b[0m\u001b[0;34m,\u001b[0m \u001b[0mcolumns\u001b[0m\u001b[0;34m=\u001b[0m\u001b[0mlist\u001b[0m\u001b[0;34m(\u001b[0m\u001b[0mstring\u001b[0m\u001b[0;34m.\u001b[0m\u001b[0mascii_uppercase\u001b[0m\u001b[0;34m[\u001b[0m\u001b[0;34m:\u001b[0m\u001b[0;36m5\u001b[0m\u001b[0;34m]\u001b[0m\u001b[0;34m)\u001b[0m\u001b[0;34m)\u001b[0m\u001b[0;34m\u001b[0m\u001b[0;34m\u001b[0m\u001b[0m\n\u001b[0m",
      "\u001b[0;31mNameError\u001b[0m: name 'string' is not defined"
     ]
    }
   ],
   "source": [
    "df = pd.DataFrame(np.abs(np.random.randn(50, 5)), columns=list(string.ascii_uppercase[:5]))\n"
   ]
  },
  {
   "cell_type": "code",
   "execution_count": 9,
   "metadata": {},
   "outputs": [
    {
     "name": "stdout",
     "output_type": "stream",
     "text": [
      "   FCFS SJF SRTF  RR RR-prio\n",
      "0    P1  P1   P1  P1      P1\n",
      "1    P1  P1   P1  P1      P1\n",
      "2    P1  P1   P1  P1      P1\n",
      "3    P1  P1   P1  P1      P1\n",
      "4    P2  P3   P3  P2      P3\n",
      "5    P2  P3   P3  P2      P3\n",
      "6    P2  P3   P3  P2      P3\n",
      "7    P2  P3   P3  P2      P3\n",
      "8    P2  P3   P3  P3      P3\n",
      "9    P2  P3   P3  P3      P3\n",
      "10   P2  P3   P3  P3      P3\n",
      "11   P2  P3   P3  P3      P3\n",
      "12   P2  P2   P2  P2      P2\n",
      "13   P2  P2   P2  P2      P2\n",
      "14   P2  P2   P4  P2      P4\n",
      "15   P3  P2   P4  P2      P4\n",
      "16   P3  P2   P4  P3      P4\n",
      "17   P3  P2   P4  P3      P4\n",
      "18   P3  P2   P4  P3      P5\n",
      "19   P3  P2   P5  P3      P5\n",
      "20   P3  P2   P5  P4      P5\n",
      "21   P3  P2   P5  P4      P5\n",
      "22   P3  P2   P5  P4      P4\n",
      "23   P4  P5   P2  P4      P2\n",
      "24   P4  P5   P2  P2      P2\n",
      "25   P4  P5   P2  P2      P2\n",
      "26   P4  P5   P2  P2      P2\n",
      "27   P4  P4   P2  P5      P2\n",
      "28   P5  P4   P2  P5      P2\n",
      "29   P5  P4   P2  P5      P2\n",
      "30   P5  P4   P2  P5      P2\n",
      "31   P5  P4   P2  P4      P2\n"
     ]
    }
   ],
   "source": [
    "print(algs)"
   ]
  },
  {
   "cell_type": "code",
   "execution_count": null,
   "metadata": {},
   "outputs": [],
   "source": []
  }
 ],
 "metadata": {
  "kernelspec": {
   "display_name": "Python 3",
   "language": "python",
   "name": "python3"
  },
  "language_info": {
   "codemirror_mode": {
    "name": "ipython",
    "version": 3
   },
   "file_extension": ".py",
   "mimetype": "text/x-python",
   "name": "python",
   "nbconvert_exporter": "python",
   "pygments_lexer": "ipython3",
   "version": "3.7.4"
  }
 },
 "nbformat": 4,
 "nbformat_minor": 2
}
